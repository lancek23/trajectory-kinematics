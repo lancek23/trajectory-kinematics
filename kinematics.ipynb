{
 "cells": [
  {
   "cell_type": "markdown",
   "metadata": {},
   "source": [
    "This file extracts the kinematics features from the GeoLife agents"
   ]
  },
  {
   "cell_type": "markdown",
   "metadata": {},
   "source": [
    "Imports"
   ]
  },
  {
   "cell_type": "code",
   "execution_count": null,
   "metadata": {},
   "outputs": [],
   "source": [
    "import numpy as np\n",
    "import pandas as pd\n",
    "import glob\n",
    "import os\n",
    "import math"
   ]
  },
  {
   "cell_type": "markdown",
   "metadata": {},
   "source": [
    "First, we create a dictionary of agents who have labeled trips, since not all agents in the data include these labels"
   ]
  },
  {
   "cell_type": "code",
   "execution_count": null,
   "metadata": {},
   "outputs": [],
   "source": [
    "# Glob all labels.txt files\n",
    "labels = glob.glob('Geolife Trajectories 1.3/Data/*/labels.txt')\n",
    "\n",
    "# Create dictionary of agent num -> trip dataframe\n",
    "agent_trips = {}\n",
    "\n",
    "for l in labels:\n",
    "\n",
    "    # Get agent number from path\n",
    "    agent_name = l[l.index('Data')+5:l.index('Data')+8]\n",
    "\n",
    "    # Read labels.txt file\n",
    "    with open(l) as text_file:\n",
    "        trips = text_file.read().split('\\n')\n",
    "    text_file.close()\n",
    "\n",
    "    # Split lines into lists\n",
    "    trips = [x.split('\\t') for x in trips]\n",
    "\n",
    "    # Sometimes we get extra lines\n",
    "    while len(trips[-1]) != 3:\n",
    "        del trips[-1]\n",
    "\n",
    "    # Transform to numpy\n",
    "    trips = np.array(trips)\n",
    "\n",
    "    # Transform again to dataframe\n",
    "    trips = pd.DataFrame(data=trips[1:,:], columns=trips[0,:])\n",
    "\n",
    "    # Alter columns appropriately\n",
    "    trips['Agent_ID'] = int(agent_name)\n",
    "\n",
    "    trips['Start_time'] = pd.to_datetime(trips['Start Time'], format='%Y/%m/%d %H:%M:%S')\n",
    "    trips['End_time'] = pd.to_datetime(trips['End Time'], format='%Y/%m/%d %H:%M:%S')\n",
    "\n",
    "    trips = trips.loc[:,['Agent_ID', 'Start_time','End_time', 'Transportation Mode']]\n",
    "\n",
    "    # Add agent to dict\n",
    "    agent_trips[int(agent_name)] = trips"
   ]
  },
  {
   "cell_type": "markdown",
   "metadata": {},
   "source": [
    "This function reads in data from a single plt file, which usually represents the trajectory of a single day for a particular agent"
   ]
  },
  {
   "cell_type": "code",
   "execution_count": null,
   "metadata": {},
   "outputs": [],
   "source": [
    "# Read the plt files for the agents\n",
    "def extract_day(file_path):\n",
    "    day = pd.read_csv(file_path, names=['latitude', 'longitude', 'zero', 'altitude', 'days', 'date', 'time'], skiprows=6)\n",
    "    day['timestamp'] = pd.to_datetime(day['date'] + ' ' + day['time'])\n",
    "    day = day.drop(columns=['zero', 'altitude', 'days', 'date', 'time'])\n",
    "\n",
    "    return day"
   ]
  },
  {
   "cell_type": "markdown",
   "metadata": {},
   "source": [
    "This function extracts the kinematic features for an agent, given:\n",
    "(1) A dataframe of the trajectory for that agent\n",
    "(2) A dataframe of the trips for that agent\n",
    "(3) The name of the agent"
   ]
  },
  {
   "cell_type": "code",
   "execution_count": null,
   "metadata": {},
   "outputs": [],
   "source": [
    "# Get kinematic profile, given a raw trajectory and trips\n",
    "def get_kinematics_from_trips(ag_traj, ag_trips, ag_name):\n",
    "\n",
    "    # Columns: See bottom\n",
    "    trajectories = []\n",
    "\n",
    "    # For distance/acceleration calculations\n",
    "    some_const = math.cos(math.radians(ag_traj['latitude'][0]))\n",
    "    R = 6371  # radius of the earth in km\n",
    "\n",
    "    # Observe portions of trajectory that appear in a labeled trip\n",
    "    for i in range(len(ag_trips)):\n",
    "        trip = ag_traj[(ag_traj['timestamp'] <= ag_trips['End_time'].iloc[i]) & (ag_traj['timestamp'] >= ag_trips['Start_time'].iloc[i-1])]\n",
    "\n",
    "        # Ignore if there is no movement or only one timestamp\n",
    "        if len(trip) <= 1:\n",
    "            continue\n",
    "\n",
    "        trip = trip.to_numpy()\n",
    "\n",
    "        movements = []\n",
    "\n",
    "        # Cycle every timestamp of dataset\n",
    "        j = 1\n",
    "        while j < len(trip):\n",
    "            \n",
    "            # Note: Due to GPS errors, we sometimes have identical timestamps for the same agent, at different locations\n",
    "            # To deal with this, we simply take the one which is closer to the previous timestamp\n",
    "\n",
    "            # If there is no time between the current and previous timestamp, we must deal with this\n",
    "            if trip[j][3] == 0:\n",
    "\n",
    "                # One caveat: If the first two ticks of the trip are duplicate timestamps, we don't have a good solution. We simply take the last one\n",
    "                if len(movements) == 0: # Equivalent should be if j == 1 but there could be more than two duplicates\n",
    "                    j += 1\n",
    "                    continue\n",
    "\n",
    "                # Calculate distance from previous timestamp. First, find how many ticks backwards that is\n",
    "                prev_tick = j - 2\n",
    "                while trip[j][0] == trip[prev_tick][0]:\n",
    "                    prev_tick -= 1\n",
    "\n",
    "                # Add each move with these features: timestamp, speed, acceleration\n",
    "                move = []\n",
    "                move.append(trip[j][0])\n",
    "                # Calculate distance\n",
    "                d = 1000 * R * math.sqrt(\n",
    "                    ((math.radians(trip[prev_tick][1]) - math.radians(trip[j][1])) * some_const) ** 2 + (\n",
    "                            math.radians(trip[prev_tick][2]) - math.radians(trip[j][2])) ** 2)\n",
    "\n",
    "                # Calculate speed using time since last timestamp\n",
    "                d = d / trip[prev_tick + 1][3]\n",
    "\n",
    "                move.append(d)\n",
    "                if len(movements) == 1: # Here our check is if we have a single movement only, since that one must be the duplicate\n",
    "                    move.append(d)  # Acceleration, since we start from stillness\n",
    "                else:\n",
    "                    move.append(d - movements[-1][1]) # Otherwise, calculate as difference in speed\n",
    "\n",
    "                # Now, if this one has a shorter distance than the other tick at the same timestamp, replace it\n",
    "                if move[1] < movements[-1][1]:\n",
    "                    movements = movements[:-1]\n",
    "                    movements.append(move)\n",
    "\n",
    "                # Move to next timestamp\n",
    "                j += 1\n",
    "                continue\n",
    "\n",
    "            # From here we have the typical case (no duplicate timestamp)\n",
    "            \n",
    "            # Add each move with these features: timestamp, speed, acceleration\n",
    "            move = []\n",
    "            move.append(trip[j][0])\n",
    "            # Calculate distance\n",
    "            d = 1000 * R * math.sqrt(\n",
    "                ((math.radians(trip[j - 1][1]) - math.radians(trip[j][1])) * some_const) ** 2 + (\n",
    "                        math.radians(trip[j - 1][2]) - math.radians(trip[j][2])) ** 2)\n",
    "\n",
    "            # Calculate speed using time since last timestamp\n",
    "            d = d / trip[j][3]\n",
    "\n",
    "            move.append(d)\n",
    "            if len(movements) == 0:\n",
    "                move.append(d)  # Acceleration, since we start from stillness\n",
    "            else:\n",
    "                move.append(d - movements[-1][1]) # Otherwise, calculate as difference in speed\n",
    "            movements.append(move)\n",
    "\n",
    "            j += 1\n",
    "\n",
    "        traj = []\n",
    "\n",
    "        # From the list of movements with speeds and accelerations, we extract the kinematic features of the trip\n",
    "        movements = np.array(movements)\n",
    "        traj.append(ag_name)  # Agent_ID\n",
    "        traj.append(trip[0][0])  # Start_time\n",
    "        traj.append(trip[len(trip) - 1][0])  # End_time\n",
    "        traj.append((trip[len(trip) - 1][0] - trip[0][0]).total_seconds())  # duration\n",
    "        traj.append(max(movements[:, 1]))  # max_speed\n",
    "        traj.append(min(movements[:, 1]))  # min_speed\n",
    "        traj.append(max(movements[:, 2]))  # max_pos_acceleration\n",
    "        traj.append(min(movements[:, 2]))  # max_neg_acceleration\n",
    "        traj.append(np.mean(movements[:, 1]))  # avg_speed\n",
    "        traj.append(np.mean(np.absolute(movements[:, 2])))  # avg_abs_acceleration\n",
    "        traj.append(np.std(movements[:, 1]))  # std_dev_speed\n",
    "        traj.append(np.std(movements[:, 2]))  # std_dev_acceleration\n",
    "        traj.append(np.std(np.absolute(movements[:, 2])))  # std_dev_abs_acceleration\n",
    "\n",
    "        traj.append(ag_trips['Transportation Mode'].iloc[i]) # modality\n",
    "\n",
    "        # We record the kinematic features of each trip\n",
    "        trajectories.append(traj)\n",
    "\n",
    "    # Convert trajectories to a dataframe and return\n",
    "    ret = pd.DataFrame(trajectories, columns =['Agent_ID',\n",
    "                                                'Start_time', \n",
    "                                                'End_time', \n",
    "                                                'duration', \n",
    "                                                'max_speed', \n",
    "                                                'min_speed', \n",
    "                                                'max_pos_acceleration', \n",
    "                                                'max_neg_acceleration',\n",
    "                                                'avg_speed', \n",
    "                                                'avg_abs_acceleration', \n",
    "                                                'std_dev_speed',\n",
    "                                                'std_dev_acceleration',\n",
    "                                                'std_dev_abs_acceleration',\n",
    "                                                'modality'])\n",
    "\n",
    "    return ret"
   ]
  },
  {
   "cell_type": "markdown",
   "metadata": {},
   "source": [
    "Using the above functions, we cycle over the agents, extract their raw trajectories, and use these with their labeled trips to extract kinematic features"
   ]
  },
  {
   "cell_type": "code",
   "execution_count": null,
   "metadata": {},
   "outputs": [],
   "source": [
    "agents = os.listdir('Geolife Trajectories 1.3/Data/')\n",
    "\n",
    "kinematics = []\n",
    "\n",
    "# Cycle agents\n",
    "for agent in agents:\n",
    "\n",
    "    #print('Agent=%d' % int(agent))\n",
    "\n",
    "    # Ignore agent with no known trips\n",
    "    if int(agent) not in agent_trips:\n",
    "        continue\n",
    "\n",
    "    #print('%d trips' % len(agent_trips[int(agent)]))\n",
    "\n",
    "    # Extract raw trajectory\n",
    "    agent_trajs = glob.glob('Geolife Trajectories 1.3/Data/'+agent+'/Trajectory/*.plt')\n",
    "    agent_traj = pd.concat([extract_day(x) for x in agent_trajs], ignore_index=True)\n",
    "    agent_traj = agent_traj.sort_values(by=['timestamp'])\n",
    "    agent_traj = agent_traj.reset_index(drop=True)\n",
    "\n",
    "    # Add number of seconds between each timestamp\n",
    "    agent_traj['seconds_from_prev'] = (agent_traj['timestamp'] - agent_traj['timestamp'].shift()).apply(lambda x: x.total_seconds())\n",
    "\n",
    "    # Change column order\n",
    "    agent_traj = agent_traj.loc[:,['timestamp','longitude','latitude', 'seconds_from_prev']]\n",
    "\n",
    "    kinematics.append(get_kinematics_from_trips(agent_traj, agent_trips[int(agent)], int(agent)))\n",
    "\n",
    "kinematics = pd.concat(kinematics, ignore_index=True)\n",
    "# Add agent name string\n",
    "kinematics['agent_name'] = kinematics['Agent_ID'].apply(lambda x: 'agent=' + str(x).rjust(3, '0'))"
   ]
  },
  {
   "cell_type": "markdown",
   "metadata": {},
   "source": [
    "We can observe some information about the dataframe we have created"
   ]
  },
  {
   "cell_type": "code",
   "execution_count": null,
   "metadata": {},
   "outputs": [],
   "source": [
    "print(kinematics.columns)\n",
    "print(kinematics.shape)\n",
    "print(kinematics.head())"
   ]
  },
  {
   "cell_type": "markdown",
   "metadata": {},
   "source": [
    "Now, we save the data to a file format/location of our choosing"
   ]
  },
  {
   "cell_type": "code",
   "execution_count": null,
   "metadata": {},
   "outputs": [],
   "source": [
    "kinematics.to_feather('generated_data/kinematics.feather')"
   ]
  },
  {
   "cell_type": "markdown",
   "metadata": {},
   "source": [
    "From here, we do some reductions. First, we remove trips which constitute kinematic outliers, by the following features"
   ]
  },
  {
   "cell_type": "code",
   "execution_count": null,
   "metadata": {},
   "outputs": [],
   "source": [
    "features = ['duration', 'max_speed', 'min_speed', 'max_pos_acceleration', 'max_neg_acceleration', 'avg_speed',\n",
    "            'avg_abs_acceleration', 'std_dev_speed', 'std_dev_acceleration', 'std_dev_abs_acceleration']"
   ]
  },
  {
   "cell_type": "markdown",
   "metadata": {},
   "source": [
    "This function allows us to determine create a filter which excludes outliers"
   ]
  },
  {
   "cell_type": "code",
   "execution_count": null,
   "metadata": {},
   "outputs": [],
   "source": [
    "# Remove outliers (by boxplot parameters)\n",
    "def remove_outliers(feature, data):\n",
    "    Q1 = data[feature].quantile(0.25)\n",
    "    Q3 = data[feature].quantile(0.75)\n",
    "    IQR = Q3 - Q1\n",
    "    lower = Q1 - 1.5*IQR\n",
    "    upper = Q3 + 1.5*IQR\n",
    "\n",
    "    filter = (data[feature] <= upper) & (data[feature] >= lower)\n",
    "\n",
    "    return filter"
   ]
  },
  {
   "cell_type": "markdown",
   "metadata": {},
   "source": [
    "We take only those trips which are not considered outliers"
   ]
  },
  {
   "cell_type": "code",
   "execution_count": null,
   "metadata": {},
   "outputs": [],
   "source": [
    "filter = remove_outliers(features[0], kinematics)\n",
    "\n",
    "for f in features[1:]:\n",
    "    filter = (filter) & (remove_outliers(f, kinematics))\n",
    "\n",
    "clean_df = kinematics[filter]\n",
    "clean_df = clean_df.reset_index(drop=True)"
   ]
  },
  {
   "cell_type": "markdown",
   "metadata": {},
   "source": [
    "Now, we can save these trips to a file format and location of our choosing"
   ]
  },
  {
   "cell_type": "code",
   "execution_count": null,
   "metadata": {},
   "outputs": [],
   "source": [
    "clean_df.to_feather('generated_data/clean_kinematics.feather')"
   ]
  },
  {
   "cell_type": "markdown",
   "metadata": {},
   "source": [
    "Lastly, we can remove agents which have less than 30 trips"
   ]
  },
  {
   "cell_type": "code",
   "execution_count": null,
   "metadata": {},
   "outputs": [],
   "source": [
    "# Create a dictionary of agent num -> kinematics dataframe for that agent\n",
    "clean_agents = clean_df.groupby(['Agent_ID'])\n",
    "clean_agents = [clean_agents.get_group((x)) for x in clean_agents.groups]\n",
    "clean_agents = [x.sort_values(by=['Start_time']) for x in clean_agents]\n",
    "clean_agents = [x.reset_index(drop=True) for x in clean_agents]\n",
    "clean_agents = {int(x['Agent_ID'].iloc[0]): x for x in clean_agents}\n",
    "\n",
    "# Create a new dictionary which only inclues agents with at least 30 trips\n",
    "reduced_agents = {k: v for k, v in clean_agents.items() if len(v) >= 30}\n",
    "\n",
    "# Take the agents from this list and put them into a dataframe\n",
    "reduced_df = clean_df[clean_df['Agent_ID'].isin(list(reduced_agents))]\n",
    "reduced_df = reduced_df.reset_index(drop=True)"
   ]
  },
  {
   "cell_type": "markdown",
   "metadata": {},
   "source": [
    "Finally, we save the data to a file format/location of our choosing. This is the final version of the data used in the paper"
   ]
  },
  {
   "cell_type": "code",
   "execution_count": null,
   "metadata": {},
   "outputs": [],
   "source": [
    "reduced_df.to_feather('generated_data/reduced_kinematics.feather')"
   ]
  },
  {
   "cell_type": "markdown",
   "metadata": {},
   "source": [
    "We can observe some information about the dataframe we have created"
   ]
  },
  {
   "cell_type": "code",
   "execution_count": null,
   "metadata": {},
   "outputs": [],
   "source": [
    "print(reduced_df.columns)\n",
    "print(reduced_df.shape)\n",
    "print(reduced_df.head())"
   ]
  }
 ],
 "metadata": {
  "kernelspec": {
   "display_name": "Python 3",
   "language": "python",
   "name": "python3"
  },
  "language_info": {
   "codemirror_mode": {
    "name": "ipython",
    "version": 3
   },
   "file_extension": ".py",
   "mimetype": "text/x-python",
   "name": "python",
   "nbconvert_exporter": "python",
   "pygments_lexer": "ipython3",
   "version": "3.9.18"
  }
 },
 "nbformat": 4,
 "nbformat_minor": 2
}
