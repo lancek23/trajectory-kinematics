{
 "cells": [
  {
   "cell_type": "markdown",
   "metadata": {},
   "source": [
    "This file performs outlier detection per agent"
   ]
  },
  {
   "cell_type": "markdown",
   "metadata": {},
   "source": [
    "Imports"
   ]
  },
  {
   "cell_type": "code",
   "execution_count": null,
   "metadata": {},
   "outputs": [],
   "source": [
    "import pandas as pd\n",
    "import matplotlib.pyplot as plt\n",
    "import random\n",
    "\n",
    "from sklearn.neighbors import LocalOutlierFactor\n",
    "from sklearn.metrics import auc"
   ]
  },
  {
   "cell_type": "markdown",
   "metadata": {},
   "source": [
    "Read in data and group by agent"
   ]
  },
  {
   "cell_type": "code",
   "execution_count": null,
   "metadata": {},
   "outputs": [],
   "source": [
    "df = pd.read_feather('generated_data/reduced_kinematics.feather')\n",
    "\n",
    "groups = df.groupby('agent_name')"
   ]
  },
  {
   "cell_type": "markdown",
   "metadata": {},
   "source": [
    "The following function performs the LOF outlier detection using a single agent as \"normal,\" randomly adding outliers from other agents"
   ]
  },
  {
   "cell_type": "code",
   "execution_count": null,
   "metadata": {},
   "outputs": [],
   "source": [
    "def outlier_detection(grp):\n",
    "\n",
    "    # Get dataframe of this agent's trips\n",
    "    temp = groups.get_group(grp).reset_index(drop=True)\n",
    "\n",
    "    # Get approximately 3% of original data as outliers\n",
    "    num_outliers = round(0.03 * len(temp))\n",
    "    # print(grp)\n",
    "    # print('Number of trips for agent: ', len(temp))\n",
    "    # print('Number of outliers to introduce: ', num_outliers)\n",
    "\n",
    "    # Append outliers to dataframe\n",
    "    for i in range(num_outliers):\n",
    "        # Be sure we don't get a duplicate\n",
    "        index = random.randint(0, len(df) - 1)\n",
    "        while df['agent_name'].iloc[index] == grp:\n",
    "            index = random.randint(0, len(df) - 1)\n",
    "\n",
    "        temp.loc[len(temp)] = df.iloc[index]\n",
    "\n",
    "    # Drop unnecesarry columns\n",
    "    data = temp.drop(columns=['Agent_ID', 'Start_time', 'End_time', 'modality', 'agent_name'])\n",
    "    data = data.to_numpy()\n",
    "\n",
    "    # Apply LOF\n",
    "    clf = LocalOutlierFactor()\n",
    "    clf.fit(data)\n",
    "\n",
    "    temp['score'] = clf.negative_outlier_factor_\n",
    "    temp = temp.sort_values(by='score')\n",
    "\n",
    "    # Find AUC score\n",
    "    p = [1]\n",
    "    r = [0]\n",
    "    num_found = 0\n",
    "    i = 0\n",
    "\n",
    "    for (idx, row) in temp.iterrows():\n",
    "        if row['agent_name'] != grp:\n",
    "            num_found += 1\n",
    "        p.append(num_found / (i + 1))\n",
    "        r.append(num_found / num_outliers)\n",
    "\n",
    "        if r[-1] == 1:\n",
    "            i += 1\n",
    "            break\n",
    "\n",
    "        i += 1\n",
    "\n",
    "    auc_precision_recall = auc(r, p)\n",
    "\n",
    "    # Return (1) Size of group, (2) AUC score\n",
    "    return [len(temp) - num_outliers, auc_precision_recall]"
   ]
  },
  {
   "cell_type": "markdown",
   "metadata": {},
   "source": [
    "Running 10 trials per agent, we perform outlier detection and compile the results"
   ]
  },
  {
   "cell_type": "code",
   "execution_count": null,
   "metadata": {},
   "outputs": [],
   "source": [
    "results = pd.DataFrame(columns=['agent_name', 'num_trips', 'auc'])\n",
    "\n",
    "for g in groups.groups:\n",
    "    # 10 iterations per agent\n",
    "    for iter in range(10):\n",
    "        l, s = outlier_detection(g)\n",
    "        results.loc[len(results)] = [g, l, s]"
   ]
  },
  {
   "cell_type": "markdown",
   "metadata": {},
   "source": [
    "We can observe some statistics about our results"
   ]
  },
  {
   "cell_type": "code",
   "execution_count": null,
   "metadata": {},
   "outputs": [],
   "source": [
    "print(results['auc'].describe())"
   ]
  },
  {
   "cell_type": "markdown",
   "metadata": {},
   "source": [
    "The following function performs the outlier detection via random guessing, using a single agent as \"normal,\" randomly adding outliers from other agents"
   ]
  },
  {
   "cell_type": "code",
   "execution_count": null,
   "metadata": {},
   "outputs": [],
   "source": [
    "def random_guess(grp):\n",
    "\n",
    "    # Get dataframe of this agent's trips\n",
    "    temp = groups.get_group(grp).reset_index(drop=True)\n",
    "\n",
    "    # Get approximately 3% of original data as outliers\n",
    "    num_outliers = round(0.03 * len(temp))\n",
    "    # print(grp)\n",
    "    # print('Number of trips for agent: ', len(temp))\n",
    "    # print('Number of outliers to introduce: ', num_outliers)\n",
    "\n",
    "    # Append outliers to dataframe\n",
    "    for i in range(num_outliers):\n",
    "        # Be sure we don't get a duplicate\n",
    "        index = random.randint(0, len(df) - 1)\n",
    "        while df['agent_name'].iloc[index] == grp:\n",
    "            index = random.randint(0, len(df) - 1)\n",
    "\n",
    "        temp.loc[len(temp)] = df.iloc[index]\n",
    "\n",
    "    # Randomly shuffle rows\n",
    "    temp = temp.sample(frac=1).reset_index(drop=True)\n",
    "\n",
    "    # Find AUC score\n",
    "    p = [1]\n",
    "    r = [0]\n",
    "    num_found = 0\n",
    "    i = 0\n",
    "\n",
    "    for (idx, row) in temp.iterrows():\n",
    "        if row['agent_name'] != grp:\n",
    "            num_found += 1\n",
    "        p.append(num_found / (i + 1))\n",
    "        r.append(num_found / num_outliers)\n",
    "\n",
    "        if r[-1] == 1:\n",
    "            i += 1\n",
    "            break\n",
    "\n",
    "        i += 1\n",
    "\n",
    "    auc_precision_recall = auc(r, p)\n",
    "\n",
    "    # Return (1) Size of group, (2) AUC score\n",
    "    return [len(temp) - num_outliers, auc_precision_recall]"
   ]
  },
  {
   "cell_type": "markdown",
   "metadata": {},
   "source": [
    "Running 10 trials per agent, we perform outlier detection and compile the results"
   ]
  },
  {
   "cell_type": "code",
   "execution_count": null,
   "metadata": {},
   "outputs": [],
   "source": [
    "rand_results = pd.DataFrame(columns=['agent_name', 'num_trips', 'auc'])\n",
    "\n",
    "for g in groups.groups:\n",
    "    # 10 iterations per agent\n",
    "    for iter in range(10):\n",
    "        l, s = random_guess(g)\n",
    "        rand_results.loc[len(rand_results)] = [g, l, s]"
   ]
  },
  {
   "cell_type": "markdown",
   "metadata": {},
   "source": [
    "We can observe some statistics about our results"
   ]
  },
  {
   "cell_type": "code",
   "execution_count": null,
   "metadata": {},
   "outputs": [],
   "source": [
    "print(rand_results['auc'].describe())"
   ]
  }
 ],
 "metadata": {
  "kernelspec": {
   "display_name": "expeditionenv",
   "language": "python",
   "name": "python3"
  },
  "language_info": {
   "codemirror_mode": {
    "name": "ipython",
    "version": 3
   },
   "file_extension": ".py",
   "mimetype": "text/x-python",
   "name": "python",
   "nbconvert_exporter": "python",
   "pygments_lexer": "ipython3",
   "version": "3.9.18"
  }
 },
 "nbformat": 4,
 "nbformat_minor": 2
}
